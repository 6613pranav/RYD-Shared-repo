{
 "cells": [
  {
   "cell_type": "markdown",
   "metadata": {},
   "source": [
    "## Uploading Files to G-drive using python\n"
   ]
  },
  {
   "cell_type": "markdown",
   "metadata": {},
   "source": [
    "### Steps to follow\n",
    "  1. Pip install pydrive\n",
    "  2. We need to go through pydrive documentation patiently and follow each steps as said -https://pythonhosted.org/PyDrive/quickstart.html#authentication\n",
    "     * there are few steps to follow so that it can give us client_secrets  < some random combination of nums and alpha >\n",
    "     * Downlad that file\n",
    "     * put it into same directory as of the code \n",
    "     * rename the secret key file as client_secrets.json\n",
    "     \n",
    "     * Note. This is the main step if not done properly then program may cause unexpected errors which will be hard to trace..\n",
    "  3. the variable <T://> should be replaced with the folder path u want\n",
    "      * Note.. For that you should go to folder --> copy path --> Replace all single '\\' with '//' and paster it in path variable\n",
    "  4. If the browser opens the page saying 'The authentication flow has completed.'\n",
    "   \n",
    "   \n",
    "   *Then we are all done*      "
   ]
  },
  {
   "cell_type": "code",
   "execution_count": 4,
   "metadata": {},
   "outputs": [
    {
     "name": "stdout",
     "output_type": "stream",
     "text": [
      "$RECYCLE.BIN\n",
      "System Volume Information\n",
      "Test file.txt\n"
     ]
    }
   ],
   "source": [
    "import os, sys\n",
    "\n",
    "# Open a file\n",
    "path = \"T://\"\n",
    "dirs = os.listdir( path )\n",
    "\n",
    "# This would print all the files and directories\n",
    "for file in dirs:\n",
    "    print(file)"
   ]
  },
  {
   "cell_type": "code",
   "execution_count": null,
   "metadata": {},
   "outputs": [
    {
     "name": "stdout",
     "output_type": "stream",
     "text": [
      "Your browser has been opened to visit:\n",
      "\n",
      "    https://accounts.google.com/o/oauth2/auth?client_id=765019887128-0gc69rvkhk048bd7j4camg354tdcradh.apps.googleusercontent.com&redirect_uri=http%3A%2F%2Flocalhost%3A8080%2F&scope=https%3A%2F%2Fwww.googleapis.com%2Fauth%2Fdrive&access_type=offline&response_type=code\n",
      "\n"
     ]
    }
   ],
   "source": [
    "from pydrive.drive import GoogleDrive \n",
    "from pydrive.auth import GoogleAuth \n",
    "\n",
    "# For using listdir() \n",
    "import os \n",
    "\n",
    "\n",
    "# Below code does the authentication \n",
    "# part of the code \n",
    "gauth = GoogleAuth() \n",
    "\n",
    "# Creates local webserver and auto \n",
    "# handles authentication. \n",
    "gauth.LocalWebserverAuth()\t \n",
    "drive = GoogleDrive(gauth) \n",
    "\n",
    "# replace the value of this variable \n",
    "# with the absolute path of the directory \n",
    "path = r\"T://\"\n",
    "\n",
    "# iterating thought all the files/folder \n",
    "# of the desired directory \n",
    "for x in os.listdir(path): \n",
    "\n",
    "\tf = drive.CreateFile({'title': x}) \n",
    "\tf.SetContentFile(os.path.join(path, x)) \n",
    "\tf.Upload() \n",
    "\n",
    "\t# Due to a known bug in pydrive if we \n",
    "\t# don't empty the variable used to \n",
    "\t# upload the files to Google Drive the \n",
    "\t# file stays open in memory and causes a \n",
    "\t# memory leak, therefore preventing its \n",
    "\t# deletion \n",
    "\tf = None\n"
   ]
  },
  {
   "cell_type": "code",
   "execution_count": null,
   "metadata": {},
   "outputs": [],
   "source": []
  }
 ],
 "metadata": {
  "kernelspec": {
   "display_name": "Python 3",
   "language": "python",
   "name": "python3"
  },
  "language_info": {
   "codemirror_mode": {
    "name": "ipython",
    "version": 3
   },
   "file_extension": ".py",
   "mimetype": "text/x-python",
   "name": "python",
   "nbconvert_exporter": "python",
   "pygments_lexer": "ipython3",
   "version": "3.7.6"
  }
 },
 "nbformat": 4,
 "nbformat_minor": 4
}
